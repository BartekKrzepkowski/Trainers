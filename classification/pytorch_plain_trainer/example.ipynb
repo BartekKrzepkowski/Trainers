{
 "cells": [
  {
   "cell_type": "code",
   "execution_count": 1,
   "id": "driving-duncan",
   "metadata": {},
   "outputs": [],
   "source": [
    "%load_ext autoreload\n",
    "%autoreload 2\n",
    "%load_ext tensorboard"
   ]
  },
  {
   "cell_type": "code",
   "execution_count": 2,
   "id": "classified-transcript",
   "metadata": {},
   "outputs": [],
   "source": [
    "%matplotlib inline\n",
    "\n",
    "import torch\n",
    "import torch.nn as nn\n",
    "import torch.optim as optim\n",
    "device = torch.device('cuda:0' if torch.cuda.is_available() else 'cpu')"
   ]
  },
  {
   "cell_type": "code",
   "execution_count": 5,
   "id": "established-import",
   "metadata": {
    "tags": []
   },
   "outputs": [],
   "source": [
    "from trainer import Trainer, IteratorParams\n",
    "from models import AllCNN\n",
    "from loaders import loaders_example\n",
    "\n",
    "params_clearml = {\n",
    "\n",
    "}\n",
    "\n",
    "DATASET_NAME = 'cifar10'\n",
    "params_trainer = {\n",
    "    'model': AllCNN,\n",
    "    'loaders': loaders_example,\n",
    "    'criterion': torch.nn.CrossEntropyLoss,\n",
    "    'optim': torch.optim.SGD,\n",
    "    'scheduler': torch.optim.lr_scheduler.ExponentialLR,\n",
    "    'params_clearml': params_clearml,\n",
    "    'is_tensorboard': True\n",
    "}\n",
    "\n",
    "trainer = Trainer(**params_trainer)"
   ]
  },
  {
   "cell_type": "code",
   "execution_count": 6,
   "id": "sensitive-possession",
   "metadata": {},
   "outputs": [
    {
     "data": {
      "text/html": [
       "\n",
       "      <iframe id=\"tensorboard-frame-168cd5a3eeec34cb\" width=\"100%\" height=\"800\" frameborder=\"0\">\n",
       "      </iframe>\n",
       "      <script>\n",
       "        (function() {\n",
       "          const frame = document.getElementById(\"tensorboard-frame-168cd5a3eeec34cb\");\n",
       "          const url = new URL(\"/\", window.location);\n",
       "          const port = 6006;\n",
       "          if (port) {\n",
       "            url.port = port;\n",
       "          }\n",
       "          frame.src = url;\n",
       "        })();\n",
       "      </script>\n",
       "    "
      ],
      "text/plain": [
       "<IPython.core.display.HTML object>"
      ]
     },
     "metadata": {},
     "output_type": "display_data"
    }
   ],
   "source": [
    "%tensorboard --logdir=data"
   ]
  },
  {
   "cell_type": "code",
   "execution_count": 7,
   "id": "framed-union",
   "metadata": {
    "tags": []
   },
   "outputs": [
    {
     "name": "stdout",
     "output_type": "stream",
     "text": [
      "Downloading https://www.cs.toronto.edu/~kriz/cifar-10-python.tar.gz to data/cifar-10-python.tar.gz\n"
     ]
    },
    {
     "data": {
      "application/vnd.jupyter.widget-view+json": {
       "model_id": "8e6125b67cbb42a280de58395f5bb957",
       "version_major": 2,
       "version_minor": 0
      },
      "text/plain": [
       "  0%|          | 0/170498071 [00:00<?, ?it/s]"
      ]
     },
     "metadata": {},
     "output_type": "display_data"
    },
    {
     "name": "stdout",
     "output_type": "stream",
     "text": [
      "Extracting data/cifar-10-python.tar.gz to data\n",
      "Files already downloaded and verified\n",
      "ClearML Task: created new task id=88b6399076f1440da8fc2af0764a1399\n",
      "2022-03-25 12:48:35,329 - clearml.Task - INFO - No repository found, storing script code instead\n",
      "CLEARML new package available: UPGRADE to v1.3.1 is recommended!\n",
      "Release Notes:\n",
      "### Features\n",
      "\n",
      "- Add Python 3.10 support \n",
      "\n",
      "### Bug Fixes\n",
      "\n",
      "- Update Slack SDK requirement #597 (thanks @mmiller-max!)\n",
      "- Fix fork after task.close() is called #605\n",
      "- Fix Azure storage upload #598\n",
      "- Fix offline mode crash\n",
      "- Fix task delete response not checked\n",
      "- Fix pipeline controller `kwargs` with list\n",
      "- Fix `PipelineDecorator.debug_pipeline()`\n",
      "- Fix PipelineDecorator example\n",
      "- Fix Python 3.10 issues\n",
      "- Fix handling of legacy fileserver (`files.community.clear.ml`)\n",
      "- Fix cloud driver may use `None` credentials\n",
      "- Fix `APIClient` worker raises exception when accessing `.name` attribute\n",
      "- Fix minimum/default API version setting\n",
      "ClearML results page: https://app.community.clear.ml/projects/84997d7cdf8f4be486ee1d2a072bb2e2/experiments/88b6399076f1440da8fc2af0764a1399/output/log\n"
     ]
    },
    {
     "name": "stderr",
     "output_type": "stream",
     "text": [
      "100%|██████████| 3/3 [01:55<00:00, 38.39s/it]\n"
     ]
    }
   ],
   "source": [
    "model_ls = [{}]\n",
    "loaders_ls = [{'batch_size':128, 'dataset_name': 'cifar10'}]\n",
    "criterion_ls = [{}]\n",
    "optim_ls = [{'lr': 0.05, 'weight_decay': 0.001}]\n",
    "scheduler_ls = [{'gamma':0.97}]\n",
    "\n",
    "iter_params = IteratorParams(model_ls, loaders_ls, criterion_ls, optim_ls, scheduler_ls)\n",
    "\n",
    "params_runs = {\n",
    "    'iter_params': iter_params,\n",
    "    'epochs': 3,\n",
    "    'exp_name': 'cifar_without_deficit',\n",
    "    'val_step': 35,\n",
    "    'verbose': False,\n",
    "    'checkpoint_save_step': 2, \n",
    "    'device': device\n",
    "}\n",
    "\n",
    "trainer.run_trainer(**params_runs)"
   ]
  },
  {
   "cell_type": "code",
   "execution_count": null,
   "id": "driving-physics",
   "metadata": {},
   "outputs": [],
   "source": [
    "device"
   ]
  },
  {
   "cell_type": "code",
   "execution_count": null,
   "id": "unknown-chambers",
   "metadata": {},
   "outputs": [],
   "source": []
  }
 ],
 "metadata": {
  "kernelspec": {
   "display_name": "tldl",
   "language": "python",
   "name": "tldl"
  },
  "language_info": {
   "codemirror_mode": {
    "name": "ipython",
    "version": 3
   },
   "file_extension": ".py",
   "mimetype": "text/x-python",
   "name": "python",
   "nbconvert_exporter": "python",
   "pygments_lexer": "ipython3",
   "version": "3.8.10"
  }
 },
 "nbformat": 4,
 "nbformat_minor": 5
}
